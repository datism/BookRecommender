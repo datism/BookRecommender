{
 "cells": [
  {
   "cell_type": "code",
   "execution_count": 2,
   "id": "81cd8ef4-e3be-453b-97f8-95b20d9eeef1",
   "metadata": {},
   "outputs": [],
   "source": [
    "import sys\n",
    "import os\n",
    "from pyspark.sql import SparkSession\n",
    "from pyspark.conf import SparkConf\n",
    "from pyspark.ml.recommendation import ALSModel\n",
    "from pyspark.sql.window import Window\n",
    "import pyspark.sql.functions as F\n",
    "# sys.path.append('.\\src')\n",
    "# from shared.load import load_ratings, load_book_metadata "
   ]
  },
  {
   "cell_type": "code",
   "execution_count": 3,
   "id": "08077816-93c6-41a0-98c8-4a678a679245",
   "metadata": {},
   "outputs": [],
   "source": [
    "conf = SparkConf()\n",
    "spark = SparkSession.builder.config(conf=conf).getOrCreate()"
   ]
  },
  {
   "cell_type": "code",
   "execution_count": 20,
   "id": "b1a08484-f53a-4feb-be3c-f9b7681a59ec",
   "metadata": {},
   "outputs": [],
   "source": [
    "dataPath = \"hdfs://localhost:9000/user/nhom7/book/data/\"\n",
    "bookFilePath = dataPath + \"BX-Books.csv\"\n",
    "ratingsFilePath = dataPath + \"BX-Book-Ratings.csv\"\n",
    "books_df = spark.read.options(inferSchema=\"true\", header=\"true\", delimiter=';').csv(bookFilePath)\n",
    "rating_df = spark.read.options(inferSchema=\"true\", header=\"true\", delimiter=';').csv(ratingsFilePath)\n",
    "\n",
    "books_df.show(5)\n",
    "rating_df.show(5)"
   ]
  },
  {
   "cell_type": "code",
   "execution_count": 41,
   "id": "d0981819-6d6a-4cdb-8f6a-781f1a3d74d1",
   "metadata": {},
   "outputs": [
    {
     "name": "stdout",
     "output_type": "stream",
     "text": [
      "+-------------+-------+-----------+-------+\n",
      "|         ISBN|User-ID|Book-Rating|Book-ID|\n",
      "+-------------+-------+-----------+-------+\n",
      "|   9044922572|  89192|          0|      7|\n",
      "|   9044922718|  89192|          0|      8|\n",
      "| \"9170010242\"| 227945|         10|     22|\n",
      "|(THEWINDMILLP| 194500|          0|     27|\n",
      "|   )959326839| 100120|          0|     32|\n",
      "|0 00 612183 7| 216444|          0|     38|\n",
      "|0 00 655241 2| 129289|          8|     40|\n",
      "|0 297 64548 X| 104168|          8|     44|\n",
      "|0 440 20615 4|  71726|          9|     46|\n",
      "|0 7525 1962 x| 266641|          0|     53|\n",
      "|0 75280 122 8|  14387|          0|     54|\n",
      "|0 907 062 008|  13874|         10|     56|\n",
      "|0 907 062 008|  37527|          0|     56|\n",
      "|0 907 062 008|  52203|          0|     56|\n",
      "|0 907 062 008|  90232|          0|     56|\n",
      "|0 907 062 008| 137397|         10|     56|\n",
      "|0 907 062 008| 163824|          0|     56|\n",
      "|0 907 062 008| 188658|         10|     56|\n",
      "|0 907 062 008| 206865|          0|     56|\n",
      "|  0*708880258| 218258|          0|     59|\n",
      "+-------------+-------+-----------+-------+\n",
      "only showing top 20 rows\n",
      "\n"
     ]
    }
   ],
   "source": [
    "# change ids from strings to integers\n",
    "w = Window.partitionBy(F.lit(1)).orderBy('ISBN')\n",
    "bookid_df = rating_df.select('ISBN').distinct().withColumn('Book-ID', F.row_number().over(w))\n",
    "rating_df = rating_df.join(bookid_df, 'ISBN')\n",
    "\n",
    "rating_df.show()"
   ]
  },
  {
   "cell_type": "code",
   "execution_count": 44,
   "id": "4200579a",
   "metadata": {},
   "outputs": [],
   "source": [
    "user_id = 11198\n",
    "# select where user id\n",
    "read_books_df = rating_df.filter(F.col('User-ID') == user_id)\\\n",
    "                        .join(books_df, 'ISBN')"
   ]
  },
  {
   "cell_type": "code",
   "execution_count": 45,
   "id": "e55fec49",
   "metadata": {},
   "outputs": [
    {
     "name": "stdout",
     "output_type": "stream",
     "text": [
      "Books user has read:\n",
      "+----------+--------------------+-------------------+--------------------+-----------+\n",
      "|      ISBN|          Book-Title|Year-Of-Publication|           Publisher|Book-Rating|\n",
      "+----------+--------------------+-------------------+--------------------+-----------+\n",
      "|3426622254|Panic Room. Der R...|               2002|Droemersche Verla...|          5|\n",
      "|3485008702|Ein Krokodil f�?¼...|               2001|       Nymphenburger|          8|\n",
      "|3404129423|Der dritte Zwilling.|               1999|             L�?¼bbe|          7|\n",
      "|3426048086|Gorillas im Nebel...|               1991|Droemersche Verla...|          0|\n",
      "|3453023226|  Das Double. Roman.|               1986|               Heyne|          0|\n",
      "|3453177398|Ein hei�?�?er Som...|               2000|               Heyne|          0|\n",
      "|3453195841|Das s�?¼�?�?e Ver...|               2002|               Heyne|          0|\n",
      "|340411566X|Der Club der tote...|               1990|             L�?¼bbe|          0|\n",
      "|3423125772|Zauber gegen die ...|               1998|                 Dtv|          0|\n",
      "|3442309646|Das sexuelle Lebe...|               2001|            Goldmann|          5|\n",
      "|345307565X|    Die Akte. Roman.|               1994|               Heyne|          8|\n",
      "|3453177746|            Hannibal|               2001|Wilhelm Heyne Verlag|          0|\n",
      "|3453870859|Ein Ticket nach N...|               2003|               Heyne|          7|\n",
      "|3498006312|Berlin - Moskau. ...|               2003|    Rowohlt, Reinbek|          9|\n",
      "|3442721199|       Gute Knochen.|               1997|    Btb Bei Goldmann|          0|\n",
      "|3453061187|    Die Jury. Roman.|               1992|               Heyne|          0|\n",
      "|3473389757|Die Letzten Kinde...|                  0|Ravensburger Buch...|          0|\n",
      "|3746612160|Der wilde Tanz de...|               1999|           Aufbau Tb|          9|\n",
      "+----------+--------------------+-------------------+--------------------+-----------+\n",
      "\n"
     ]
    }
   ],
   "source": [
    "print('Books user has read:')\n",
    "read_books_df.select('ISBN','Book-Title','Year-Of-Publication','Publisher', 'Book-Rating').show()"
   ]
  },
  {
   "cell_type": "code",
   "execution_count": 46,
   "id": "bc7ba544",
   "metadata": {},
   "outputs": [],
   "source": [
    "# load als model\n",
    "model = ALSModel.load(\"hdfs://localhost:9000/user/nhom7/book/als_model\")"
   ]
  },
  {
   "cell_type": "code",
   "execution_count": 47,
   "id": "baa72d35",
   "metadata": {},
   "outputs": [],
   "source": [
    "# transform\n",
    "predicted_ratings = model.recommendForUserSubset(read_books_df, 10)"
   ]
  },
  {
   "cell_type": "code",
   "execution_count": 48,
   "id": "2e59db00",
   "metadata": {},
   "outputs": [
    {
     "name": "stdout",
     "output_type": "stream",
     "text": [
      "Predicted rating:\n",
      "+----------+-------------------------------------------------+---------+\n",
      "|ISBN      |Book-Title                                       |rating   |\n",
      "+----------+-------------------------------------------------+---------+\n",
      "|0505520001|The Outlaw Viking                                |11.641361|\n",
      "|0152024417|Auntie Claus and the Key to Christmas            |11.061791|\n",
      "|0740718975|Zelda Wisdom                                     |10.270445|\n",
      "|0743474635|The Million - Dollar Wound                       |11.420538|\n",
      "|0761101608|1001 Ways to Energize Employees                  |10.278934|\n",
      "|0842378510|Complete Book of Practical Proverbs and Wacky Wit|10.270445|\n",
      "|0932194826|Time for Joy : Daily Affirmations                |10.270445|\n",
      "|3596148340|NeuLand. Ganz einfache Geschichten.              |10.358913|\n",
      "|1592866646|K!Ck                                             |10.33663 |\n",
      "+----------+-------------------------------------------------+---------+\n",
      "\n"
     ]
    }
   ],
   "source": [
    "print('Predicted rating:')\n",
    "# convert to into interpretable format\n",
    "predicted_ratings = predicted_ratings.withColumn('rec', F.explode('recommendations'))\\\n",
    "                                        .select(F.col('rec.Book-ID'), F.col('rec.rating'))\\\n",
    "                                        .join(rating_df, 'Book-ID')\\\n",
    "                                        .join(books_df, 'ISBN')\\\n",
    "                                        .select('ISBN', 'Book-Title', 'rating')\\\n",
    "                                        .distinct()\\\n",
    "                                        .show(truncate=False)"
   ]
  }
 ],
 "metadata": {
  "kernelspec": {
   "display_name": "BookRecommender-DspfYapy",
   "language": "python",
   "name": "python3"
  },
  "language_info": {
   "codemirror_mode": {
    "name": "ipython",
    "version": 3
   },
   "file_extension": ".py",
   "mimetype": "text/x-python",
   "name": "python",
   "nbconvert_exporter": "python",
   "pygments_lexer": "ipython3",
   "version": "3.10.5"
  },
  "vscode": {
   "interpreter": {
    "hash": "68d414f11f62d9fa98a31dc64ca49fa0e3c820b1d6a248584490ab30c53cd4b1"
   }
  }
 },
 "nbformat": 4,
 "nbformat_minor": 5
}
